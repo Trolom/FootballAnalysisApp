{
 "cells": [
  {
   "cell_type": "code",
   "execution_count": 1,
   "id": "089b6b19",
   "metadata": {},
   "outputs": [],
   "source": [
    "#!nvidia-smi"
   ]
  },
  {
   "cell_type": "code",
   "execution_count": null,
   "id": "9ad46270",
   "metadata": {},
   "outputs": [],
   "source": [
    "#!pip install opencv-python numpy torch torchvision ultralytics matplotlib tqdm timm\n",
    "#!pip install -q transformers sentencepiece gdown inference-gpu supervision more_itertools scikit-learn umap-learn\n",
    "#!pip install \"inference[transformers,sam,clip,gaze,grounding-dino]\""
   ]
  },
  {
   "cell_type": "code",
   "execution_count": 1,
   "id": "e29c446c",
   "metadata": {},
   "outputs": [
    {
     "name": "stderr",
     "output_type": "stream",
     "text": [
      "TqdmWarning: IProgress not found. Please update jupyter and ipywidgets. See https://ipywidgets.readthedocs.io/en/stable/user_install.html\n"
     ]
    },
    {
     "data": {
      "text/html": [
       "<pre style=\"white-space:pre;overflow-x:auto;line-height:normal;font-family:Menlo,'DejaVu Sans Mono',consolas,'Courier New',monospace\"><span style=\"color: #7fbfbf; text-decoration-color: #7fbfbf\">[10/06/25 08:31:28] </span><span style=\"color: #800000; text-decoration-color: #800000\">WARNING </span> Your inference package version <span style=\"color: #008080; text-decoration-color: #008080; font-weight: bold\">0.48</span>.<span style=\"color: #008080; text-decoration-color: #008080; font-weight: bold\">0</span> is out of date! Please upgrade to <a href=\"file:///home/dragos/coursesDeusto/DeepLearning/project3/.venv/lib/python3.12/site-packages/inference/core/__init__.py\" target=\"_blank\"><span style=\"color: #7f7f7f; text-decoration-color: #7f7f7f\">__init__.py</span></a><span style=\"color: #7f7f7f; text-decoration-color: #7f7f7f\">:</span><a href=\"file:///home/dragos/coursesDeusto/DeepLearning/project3/.venv/lib/python3.12/site-packages/inference/core/__init__.py#41\" target=\"_blank\"><span style=\"color: #7f7f7f; text-decoration-color: #7f7f7f\">41</span></a>\n",
       "<span style=\"color: #7fbfbf; text-decoration-color: #7fbfbf\">                    </span>         version <span style=\"color: #008080; text-decoration-color: #008080; font-weight: bold\">0.58</span>.<span style=\"color: #008080; text-decoration-color: #008080; font-weight: bold\">1</span> of inference for the latest features and bug fixes by    <span style=\"color: #7f7f7f; text-decoration-color: #7f7f7f\">              </span>\n",
       "<span style=\"color: #7fbfbf; text-decoration-color: #7fbfbf\">                    </span>         running `pip install --upgrade inference`.                              <span style=\"color: #7f7f7f; text-decoration-color: #7f7f7f\">              </span>\n",
       "</pre>\n"
      ],
      "text/plain": [
       "\u001b[2;36m[10/06/25 08:31:28]\u001b[0m\u001b[2;36m \u001b[0m\u001b[31mWARNING \u001b[0m Your inference package version \u001b[1;36m0.48\u001b[0m.\u001b[1;36m0\u001b[0m is out of date! Please upgrade to \u001b]8;id=81387;file:///home/dragos/coursesDeusto/DeepLearning/project3/.venv/lib/python3.12/site-packages/inference/core/__init__.py\u001b\\\u001b[2m__init__.py\u001b[0m\u001b]8;;\u001b\\\u001b[2m:\u001b[0m\u001b]8;id=866833;file:///home/dragos/coursesDeusto/DeepLearning/project3/.venv/lib/python3.12/site-packages/inference/core/__init__.py#41\u001b\\\u001b[2m41\u001b[0m\u001b]8;;\u001b\\\n",
       "\u001b[2;36m                    \u001b[0m         version \u001b[1;36m0.58\u001b[0m.\u001b[1;36m1\u001b[0m of inference for the latest features and bug fixes by    \u001b[2m              \u001b[0m\n",
       "\u001b[2;36m                    \u001b[0m         running `pip install --upgrade inference`.                              \u001b[2m              \u001b[0m\n"
      ]
     },
     "metadata": {},
     "output_type": "display_data"
    },
    {
     "name": "stdout",
     "output_type": "stream",
     "text": [
      "cuda\n"
     ]
    }
   ],
   "source": [
    "from utils import read_video, save_video\n",
    "from tracker import Tracker\n",
    "from team_assigner import TeamAssigner\n",
    "from pitch import PitchAnnotator\n",
    "import torch\n",
    "import os\n",
    "device = torch.device('cuda' if torch.cuda.is_available() else 'cpu')\n",
    "print(device)\n"
   ]
  },
  {
   "cell_type": "code",
   "execution_count": 2,
   "id": "3c91dd36",
   "metadata": {},
   "outputs": [],
   "source": [
    "from pitch import SoccerPitchConfiguration\n",
    "# Dont forget about stubs when using a new video\n",
    "CONFIG = SoccerPitchConfiguration()"
   ]
  },
  {
   "cell_type": "code",
   "execution_count": 3,
   "id": "a0061b98",
   "metadata": {},
   "outputs": [
    {
     "name": "stdout",
     "output_type": "stream",
     "text": [
      "Loading crops and player info from stubs/team_stubs.pkl...\n"
     ]
    },
    {
     "name": "stderr",
     "output_type": "stream",
     "text": [
      "Embedding extraction: 17it [00:02,  6.46it/s]\n",
      "Embedding extraction: 480it [01:02,  7.63it/s]\n"
     ]
    }
   ],
   "source": [
    "# 1. load all frames\n",
    "video_frames = read_video('08fd33_4.mp4')\n",
    "\n",
    "# 2. track players/ref/ball in the original video\n",
    "tracker = Tracker('models/player_detection.pt')\n",
    "tracks  = tracker.get_object_tracks(\n",
    "\tvideo_frames,\n",
    "\tread_from_stub=True,\n",
    "\tstub_path='stubs/track_stubs.pkl'\n",
    ")\n",
    "tracker.add_position_to_track(tracks)\n",
    "\n",
    "# 3. assign each tracked player a team ID/color\n",
    "team_assigner = TeamAssigner(device='cuda')\n",
    "team_assigner.assign_teams(\n",
    "\ttracks,\n",
    "\tvideo_frames,\n",
    "\tread_from_stub=True,\n",
    "\tstub_path='stubs/team_stubs.pkl'\n",
    ")"
   ]
  },
  {
   "cell_type": "code",
   "execution_count": null,
   "id": "ef9d9fa0",
   "metadata": {},
   "outputs": [],
   "source": [
    "# Video with players detected and teams drawn\n",
    "#-----------------\n",
    "\n",
    "output_video_frames = tracker.draw_annotations(video_frames, tracks) #team_ball_control\n",
    "\n",
    "save_video(output_video_frames, 'output_video.avi')\n",
    "\n",
    "#-----------------"
   ]
  },
  {
   "cell_type": "code",
   "execution_count": 3,
   "id": "594c6c82",
   "metadata": {},
   "outputs": [
    {
     "name": "stderr",
     "output_type": "stream",
     "text": [
      "UserWarning: Specified provider 'CUDAExecutionProvider' is not in available provider names.Available providers: 'AzureExecutionProvider, CPUExecutionProvider'\n",
      "UserWarning: Specified provider 'OpenVINOExecutionProvider' is not in available provider names.Available providers: 'AzureExecutionProvider, CPUExecutionProvider'\n",
      "UserWarning: Specified provider 'CoreMLExecutionProvider' is not in available provider names.Available providers: 'AzureExecutionProvider, CPUExecutionProvider'\n"
     ]
    }
   ],
   "source": [
    "# 4. assign each player a jersey number\n",
    "pitch_ann = PitchAnnotator(\n",
    "\tapi_key  = os.getenv('ROBOFLOW_API_KEY'),\n",
    "\tmodel_id = 'football-field-detection-f07vi/15',\n",
    "\tvertices = CONFIG.vertices,\n",
    "\tedges    = CONFIG.edges\n",
    ")"
   ]
  },
  {
   "cell_type": "code",
   "execution_count": null,
   "id": "6f6acd66",
   "metadata": {},
   "outputs": [
    {
     "name": "stderr",
     "output_type": "stream",
     "text": [
      "UserWarning: Specified provider 'CUDAExecutionProvider' is not in available provider names.Available providers: 'AzureExecutionProvider, CPUExecutionProvider'\n",
      "UserWarning: Specified provider 'OpenVINOExecutionProvider' is not in available provider names.Available providers: 'AzureExecutionProvider, CPUExecutionProvider'\n",
      "UserWarning: Specified provider 'CoreMLExecutionProvider' is not in available provider names.Available providers: 'AzureExecutionProvider, CPUExecutionProvider'\n"
     ]
    }
   ],
   "source": [
    "# Pitch Detection, adds edges and vertices drawn\n",
    "#---------------\n",
    "\n",
    "output_frames = []\n",
    "for frame in video_frames:\n",
    "\tfr = pitch_ann.annotate_frames(frame)\n",
    "\toutput_frames.append(fr)\n",
    "\n",
    "save_video(output_frames, 'pitch_with_edges.avi')\n",
    "\n",
    "#---------------"
   ]
  },
  {
   "cell_type": "code",
   "execution_count": 5,
   "id": "2a4449f7",
   "metadata": {},
   "outputs": [],
   "source": [
    "# Tactical board pitch conversion\n",
    "#-----------------\n",
    "\n",
    "tactical_board = []\n",
    "for idx, frame in enumerate(video_frames):\n",
    "\n",
    "\ttactical = pitch_ann.annotate_tactical_board(\n",
    "\t\tframe,                \n",
    "\t\ttracks,            # positional too, or use keywords from here on\n",
    "\t\tidx,\n",
    "\t\tCONFIG,\n",
    "\t)\n",
    "\ttactical_board.append(tactical)\n",
    "\n",
    "save_video(tactical_board, 'match_with_tactical_board.avi')\n",
    "\n",
    "#-----------------"
   ]
  },
  {
   "cell_type": "code",
   "execution_count": 5,
   "id": "fb95abb2",
   "metadata": {},
   "outputs": [],
   "source": [
    "# Voronoi pitch detection\n",
    "#-----------------\n",
    "\n",
    "voronoi_board = []\n",
    "for idx, frame in enumerate(video_frames):\n",
    "\n",
    "\ttactical = pitch_ann.annotate_voronoi(\n",
    "\t\tframe,                \n",
    "\t\ttracks,            # positional too, or use keywords from here on\n",
    "\t\tidx,\n",
    "\t\tCONFIG,\n",
    "\t)\n",
    "\tvoronoi_board.append(tactical)\n",
    "\n",
    "save_video(voronoi_board, 'match_with_voronoi.avi')\n",
    "\n",
    "#-----------------"
   ]
  }
 ],
 "metadata": {
  "kernelspec": {
   "display_name": ".venv",
   "language": "python",
   "name": "python3"
  },
  "language_info": {
   "codemirror_mode": {
    "name": "ipython",
    "version": 3
   },
   "file_extension": ".py",
   "mimetype": "text/x-python",
   "name": "python",
   "nbconvert_exporter": "python",
   "pygments_lexer": "ipython3",
   "version": "3.12.3"
  }
 },
 "nbformat": 4,
 "nbformat_minor": 5
}
