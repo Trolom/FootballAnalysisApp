{
 "cells": [
  {
   "cell_type": "code",
   "execution_count": 1,
   "id": "089b6b19",
   "metadata": {},
   "outputs": [],
   "source": [
    "#!nvidia-smi"
   ]
  },
  {
   "cell_type": "code",
   "execution_count": null,
   "id": "9ad46270",
   "metadata": {},
   "outputs": [
    {
     "ename": "",
     "evalue": "",
     "output_type": "error",
     "traceback": [
      "\u001b[1;31mnotebook controller is DISPOSED. \n",
      "\u001b[1;31mView Jupyter <a href='command:jupyter.viewOutput'>log</a> for further details."
     ]
    }
   ],
   "source": [
    "#!pip install opencv-python numpy torch torchvision ultralytics matplotlib tqdm timm\n",
    "#!pip install -q transformers sentencepiece gdown inference-gpu supervision more_itertools scikit-learn umap-learn\n",
    "#!pip install \"inference[transformers,sam,clip,gaze,grounding-dino]\""
   ]
  },
  {
   "cell_type": "code",
   "execution_count": 1,
   "id": "e29c446c",
   "metadata": {},
   "outputs": [
    {
     "name": "stderr",
     "output_type": "stream",
     "text": [
      "TqdmWarning: IProgress not found. Please update jupyter and ipywidgets. See https://ipywidgets.readthedocs.io/en/stable/user_install.html\n"
     ]
    },
    {
     "name": "stdout",
     "output_type": "stream",
     "text": [
      "cuda\n"
     ]
    }
   ],
   "source": [
    "from processingVideo.utils import read_video, save_video\n",
    "from processingVideo.tracker import Tracker\n",
    "from processingVideo.team_assigner import TeamAssigner\n",
    "from processingVideo.pitch import PitchAnnotator, SoccerPitchConfiguration\n",
    "\n",
    "import torch\n",
    "import os\n",
    "device = torch.device('cuda' if torch.cuda.is_available() else 'cpu')\n",
    "print(device)\n",
    "\n",
    "CONFIG = SoccerPitchConfiguration()"
   ]
  },
  {
   "cell_type": "code",
   "execution_count": 2,
   "id": "a0061b98",
   "metadata": {},
   "outputs": [
    {
     "name": "stderr",
     "output_type": "stream",
     "text": [
      "Embedding extraction: 17it [00:01, 10.01it/s]\n",
      "Embedding extraction: 480it [00:54,  8.78it/s]\n"
     ]
    }
   ],
   "source": [
    "# 1. load all frames\n",
    "video_frames = read_video('media/inputs/08fd33_4.mp4')\n",
    "\n",
    "# 2. track players/ref/ball in the original video\n",
    "tracker = Tracker('processingVideo/models/player_detection.pt')\n",
    "tracks  = tracker.get_object_tracks(video_frames) #add batching\n",
    "tracker.add_position_to_track(tracks)\n",
    "\n",
    "# 3. assign each tracked player a team ID/color\n",
    "team_assigner = TeamAssigner(device='cuda')\n",
    "team_assigner.assign_teams(tracks, video_frames)"
   ]
  },
  {
   "cell_type": "code",
   "execution_count": 3,
   "id": "ef9d9fa0",
   "metadata": {},
   "outputs": [],
   "source": [
    "# Video with players detected and teams drawn\n",
    "#-----------------\n",
    "\n",
    "output_video_frames = tracker.draw_annotations(video_frames, tracks) #team_ball_control\n",
    "\n",
    "save_video(output_video_frames, 'output_video.avi')\n",
    "\n",
    "#-----------------"
   ]
  },
  {
   "cell_type": "code",
   "execution_count": 3,
   "id": "b97306ca",
   "metadata": {},
   "outputs": [],
   "source": [
    "# 4. annotate the pitch\n",
    "\n",
    "pitch_ann = PitchAnnotator(\n",
    "    CONFIG=CONFIG,\n",
    "    model_path = \"processingVideo/models/field_detection.pt\"\n",
    ")"
   ]
  },
  {
   "cell_type": "code",
   "execution_count": 4,
   "id": "852499e2",
   "metadata": {},
   "outputs": [],
   "source": [
    "results = pitch_ann.annotate_video_batched(\n",
    "    video_frames=video_frames,\n",
    "    batch_size=8,   # try 8–16 \n",
    ")"
   ]
  },
  {
   "cell_type": "code",
   "execution_count": 11,
   "id": "6f6acd66",
   "metadata": {},
   "outputs": [],
   "source": [
    "# Pitch Detection, adds edges and vertices drawn\n",
    "#---------------\n",
    "\n",
    "output_frames = []\n",
    "for i, (frame, res) in enumerate(zip(video_frames, results)):\n",
    "    fr = pitch_ann.annotate_frame_from_result(frame, res)\n",
    "    output_frames.append(fr)\n",
    "\n",
    "save_video(output_frames, 'pitch_with_edges.avi')\n",
    "\n",
    "#---------------"
   ]
  },
  {
   "cell_type": "code",
   "execution_count": 10,
   "id": "2a4449f7",
   "metadata": {},
   "outputs": [],
   "source": [
    "# Tactical board pitch conversion\n",
    "#-----------------\n",
    "\n",
    "tactical_board = []\n",
    "for i, (frame, res) in enumerate(zip(video_frames, results)):\n",
    "    tb_frame = pitch_ann.annotate_tactical_board_from_result(frame, tracks, i, CONFIG, res, kp_thresh=0.5)\n",
    "    tactical_board.append(tb_frame)\n",
    "\n",
    "save_video(tactical_board, 'match_with_tactical_board.avi')\n",
    "\n",
    "#-----------------"
   ]
  },
  {
   "cell_type": "code",
   "execution_count": 9,
   "id": "fb95abb2",
   "metadata": {},
   "outputs": [],
   "source": [
    "# Voronoi pitch detection\n",
    "#-----------------\n",
    "\n",
    "voronoi_board = []\n",
    "for i, (frame, res) in enumerate(zip(video_frames, results)):\n",
    "    vb_frame = pitch_ann.annotate_voronoi_from_result(frame, tracks, i, CONFIG, res, kp_thresh=0.5, vor_step=3)\n",
    "    voronoi_board.append(vb_frame)\n",
    "\n",
    "save_video(voronoi_board, 'match_with_voronoi.avi')\n",
    "\n",
    "#-----------------"
   ]
  },
  {
   "cell_type": "code",
   "execution_count": 5,
   "id": "56acb847",
   "metadata": {},
   "outputs": [],
   "source": [
    "pd_frames, tb_frames, vb_frames = [], [], []\n",
    "for idx, (frame, res) in enumerate(zip(video_frames, results)):\n",
    "    pd, tb, vb = pitch_ann.annotate_all_from_result(frame, tracks, idx, CONFIG, result=res, kp_thresh=0.5)\n",
    "    pd_frames.append(pd)\n",
    "    tb_frames.append(tb)\n",
    "    vb_frames.append(vb)\n"
   ]
  },
  {
   "cell_type": "code",
   "execution_count": 6,
   "id": "618ba122",
   "metadata": {},
   "outputs": [],
   "source": [
    "save_video(pd_frames, 'pitch_with_edges.avi')"
   ]
  },
  {
   "cell_type": "code",
   "execution_count": 7,
   "id": "8876a928",
   "metadata": {},
   "outputs": [],
   "source": [
    "save_video(tb_frames, 'match_with_tactical_board.avi')"
   ]
  },
  {
   "cell_type": "code",
   "execution_count": 8,
   "id": "e37f09b7",
   "metadata": {},
   "outputs": [],
   "source": [
    "save_video(vb_frames, 'match_with_voronoi.avi')"
   ]
  }
 ],
 "metadata": {
  "kernelspec": {
   "display_name": "FtAppEnv",
   "language": "python",
   "name": "python3"
  },
  "language_info": {
   "codemirror_mode": {
    "name": "ipython",
    "version": 3
   },
   "file_extension": ".py",
   "mimetype": "text/x-python",
   "name": "python",
   "nbconvert_exporter": "python",
   "pygments_lexer": "ipython3",
   "version": "3.12.3"
  }
 },
 "nbformat": 4,
 "nbformat_minor": 5
}
